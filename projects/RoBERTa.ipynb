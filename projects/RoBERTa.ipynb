{
 "cells": [
  {
   "cell_type": "code",
   "execution_count": null,
   "metadata": {
    "collapsed": true
   },
   "outputs": [],
   "source": [
    "import pandas as pd\n",
    "from sklearn.model_selection import train_test_split\n",
    "from simpletransformers.classification import ClassificationModel\n",
    "import logging\n",
    "import numpy as np\n",
    "import sklearn\n",
    "import re\n",
    "import nltk\n",
    "from nltk.corpus import stopwords\n",
    "import ssl"
   ]
  },
  {
   "cell_type": "code",
   "execution_count": null,
   "outputs": [],
   "source": [
    "# Define metrics function\n",
    "def metrics_fn(truth, predictions):\n",
    "    if predictions.ndim == 1:\n",
    "        predictions = np.expand_dims(predictions, axis=1)\n",
    "    return {\n",
    "        'accuracy': (truth == predictions.argmax(axis=1)).mean(),\n",
    "        'f1': sklearn.metrics.f1_score(truth, predictions.argmax(axis=1), average='weighted'),\n",
    "        'precision': sklearn.metrics.precision_score(truth, predictions.argmax(axis=1), average='weighted'),\n",
    "        'recall': sklearn.metrics.recall_score(truth, predictions.argmax(axis=1), average='weighted')\n",
    "    }"
   ],
   "metadata": {
    "collapsed": false
   }
  },
  {
   "cell_type": "code",
   "execution_count": null,
   "outputs": [],
   "source": [
    "# Load dataset\n",
    "df = pd.read_excel('TheHackerNews_Dataset.xlsx')"
   ],
   "metadata": {
    "collapsed": false
   }
  },
  {
   "cell_type": "code",
   "execution_count": null,
   "outputs": [],
   "source": [
    "ssl._create_default_https_context = ssl._create_unverified_context\n",
    "nltk.download('stopwords')\n",
    "stop_words = stopwords.words('english')\n",
    "\n",
    "def preprocess_text(text):\n",
    "    # convert text to lowercase\n",
    "    text = text.lower()\n",
    "    # remove special characters and punctuation\n",
    "    text = re.sub(r'[^\\w\\s]', '', text)\n",
    "    # remove stop words\n",
    "    text = ' '.join([word for word in text.split() if word not in stop_words])\n",
    "    # tokenize text\n",
    "    tokens = text.split()\n",
    "    return \" \".join(tokens)"
   ],
   "metadata": {
    "collapsed": false
   }
  },
  {
   "cell_type": "code",
   "execution_count": null,
   "outputs": [],
   "source": [
    "# Fill in NaN values with an empty string\n",
    "df = df.fillna('')"
   ],
   "metadata": {
    "collapsed": false
   }
  },
  {
   "cell_type": "code",
   "execution_count": null,
   "outputs": [],
   "source": [
    "# Preprocess data\n",
    "df['Text'] = df.Title +\". \" + df.Article\n",
    "df = df.drop(['Article','Title','Link'], axis=1)\n",
    "df = df[['Text', 'Label']]\n",
    "df['Text'] = df['Text'].apply(lambda x: x.replace('\\\\', \" \"))\n",
    "df['Label'] = df['Label'].map({'Cyber_Attack':0, 'Malware':1, 'Vulnerability':2, 'Data_Breaches':3})\n",
    "\n",
    "# Apply preprocessing to text column\n",
    "df['Text'] = df['Text'].apply(preprocess_text)"
   ],
   "metadata": {
    "collapsed": false
   }
  },
  {
   "cell_type": "code",
   "execution_count": null,
   "outputs": [],
   "source": [
    "# Split dataset into train and eval sets\n",
    "train_df, eval_df = train_test_split(df, test_size=0.2, random_state=42)\n",
    "logging.basicConfig(level=logging.INFO)\n",
    "transformers_logger = logging.getLogger(\"transformers\")\n",
    "transformers_logger.setLevel(logging.WARNING)"
   ],
   "metadata": {
    "collapsed": false
   }
  },
  {
   "cell_type": "code",
   "execution_count": null,
   "outputs": [],
   "source": [
    "# Define model parameters\n",
    "model_args = {\n",
    "    'reprocess_input_data': True,\n",
    "    'num_train_epochs': 5,\n",
    "    'overwrite_output_dir': True,\n",
    "    'learning_rate': 2e-5,\n",
    "    'evaluate_during_training': True,\n",
    "    'evaluate_during_training_steps': 1000,\n",
    "    'evaluate_during_training_verbose': True,\n",
    "    'use_pretrained_model': True,\n",
    "    'architecture': 'bert',\n",
    "    'early_stopping_patience': 3,  # stop if no improvement for 3 epochs\n",
    "    'dropout': 0.1,  # add 10% dropout\n",
    "    'train_batch_size': 8,  # use smaller batch size\n",
    "}"
   ],
   "metadata": {
    "collapsed": false
   }
  },
  {
   "cell_type": "code",
   "execution_count": null,
   "outputs": [],
   "source": [
    "# Create classification model and train on data\n",
    "model = ClassificationModel('roberta', 'roberta-base', num_labels=4, args=model_args, use_cuda=False)\n",
    "model.train_model(train_df, eval_df=eval_df, metrics=metrics_fn)"
   ],
   "metadata": {
    "collapsed": false
   }
  },
  {
   "cell_type": "code",
   "execution_count": null,
   "outputs": [],
   "source": [],
   "metadata": {
    "collapsed": false
   }
  }
 ],
 "metadata": {
  "kernelspec": {
   "display_name": "Python 3",
   "language": "python",
   "name": "python3"
  },
  "language_info": {
   "codemirror_mode": {
    "name": "ipython",
    "version": 2
   },
   "file_extension": ".py",
   "mimetype": "text/x-python",
   "name": "python",
   "nbconvert_exporter": "python",
   "pygments_lexer": "ipython2",
   "version": "2.7.6"
  }
 },
 "nbformat": 4,
 "nbformat_minor": 0
}
